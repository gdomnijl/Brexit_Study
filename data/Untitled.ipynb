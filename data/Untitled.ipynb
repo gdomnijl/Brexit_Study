{
 "cells": [
  {
   "cell_type": "code",
   "execution_count": 43,
   "metadata": {
    "collapsed": true
   },
   "outputs": [],
   "source": [
    "import plotly.plotly as py\n",
    "import plotly.figure_factory as ff\n",
    "import pandas as pd\n",
    "import numpy as np\n"
   ]
  },
  {
   "cell_type": "code",
   "execution_count": 52,
   "metadata": {},
   "outputs": [
    {
     "name": "stderr",
     "output_type": "stream",
     "text": [
      "/anaconda3/lib/python3.6/site-packages/IPython/core/interactiveshell.py:2698: DtypeWarning:\n",
      "\n",
      "Columns (19) have mixed types. Specify dtype option on import or set low_memory=False.\n",
      "\n"
     ]
    }
   ],
   "source": [
    "#combining dataframes to get the static factors\n",
    "df = pd.read_csv(\"training_switch_ratio.csv\")\n",
    "df = df.drop(df.columns[1], axis=1)\n",
    "df2 = pd.read_csv(\"/Users/An/Desktop/Classes/AppliedDataScience/BriExit_Study/An_stuff/An_modelling/dataset_static_factors.csv\", index_col= \"id\")\n",
    "df2 = df2.loc[:,\"country\":\"personality_openness\"]\n",
    "\n",
    "#df = pd.concat([df,df2], axis=1, join_axes=[df.index])\n",
    "\n",
    "#df.to_csv(\"training_switch_ratio_with_factors.csv\")"
   ]
  },
  {
   "cell_type": "code",
   "execution_count": 59,
   "metadata": {},
   "outputs": [
    {
     "name": "stdout",
     "output_type": "stream",
     "text": [
      "Index(['country', 'countryOfBirth', 'disability', 'ageGroup', 'euRefLA',\n",
      "       'onscode', 'headHouseholdPast', 'fatherNumEmployees',\n",
      "       'motherNumEmployees', 'gender', 'Age', 'marital', 'housing', 'gor',\n",
      "       'profile_education_age', 'profile_ethnicity', 'profile_lea',\n",
      "       'profile_oslaua', 'profile_gross_household', 'profile_gross_personal',\n",
      "       'profile_household_size', 'profile_household_children',\n",
      "       'profile_newspaper', 'profile_past_vote_2005', 'profile_past_vote_2010',\n",
      "       'profile_religion', 'profile_religion_denom', 'profile_house_tenure',\n",
      "       'profile_socialgrade_cie', 'profile_past_vote_2015',\n",
      "       'profile_turnout_2015', 'profile_eurefvote', 'profile_eurefturnout',\n",
      "       'personality_agreeableness', 'personality_conscientiousness',\n",
      "       'personality_extraversion', 'personality_neuroticism',\n",
      "       'personality_openness'],\n",
      "      dtype='object')\n"
     ]
    }
   ],
   "source": [
    "df3 = pd.read_stata(\"/Users/An/Desktop/Classes/AppliedDataScience/BES2017_W13_Panel_v1.2.dta\")\n",
    "print(df2.columns)\n"
   ]
  },
  {
   "cell_type": "code",
   "execution_count": 62,
   "metadata": {},
   "outputs": [
    {
     "name": "stdout",
     "output_type": "stream",
     "text": [
      "   country        countryOfBirth             disability ageGroup    euRefLA  \\\n",
      "0  England               England  Yes, limited a little    56-65  E06000050   \n",
      "1  England               England                     No    56-65  E07000215   \n",
      "2  England  Prefer not to answer                     No      66+  E07000136   \n",
      "3  England               England                    NaN    46-55              \n",
      "4  England               England                    NaN      66+              \n",
      "\n",
      "     onscode  headHouseholdPast  fatherNumEmployees  motherNumEmployees  \\\n",
      "0  E14001024                1.0                 NaN                 NaN   \n",
      "1  E14000681                1.0                 NaN                 NaN   \n",
      "2  E14000582                1.0                 NaN                 NaN   \n",
      "3  E14000956                1.0                 NaN                 NaN   \n",
      "4  E14000847                1.0                 NaN                 NaN   \n",
      "\n",
      "   gender         ...          profile_socialgrade_cie profile_past_vote_2015  \\\n",
      "0    Male         ...                              NaN                 Labour   \n",
      "1  Female         ...                              NaN           Conservative   \n",
      "2  Female         ...                              NaN                 Labour   \n",
      "3  Female         ...                              NaN                    NaN   \n",
      "4  Female         ...                              NaN                    NaN   \n",
      "\n",
      "  profile_turnout_2015 profile_eurefvote profile_eurefturnout  \\\n",
      "0           Yes, voted      Leave the EU           Yes, voted   \n",
      "1           Yes, voted      Leave the EU           Yes, voted   \n",
      "2           Yes, voted      Leave the EU           Yes, voted   \n",
      "3                  NaN               NaN                  NaN   \n",
      "4                  NaN               NaN                  NaN   \n",
      "\n",
      "  personality_agreeableness personality_conscientiousness  \\\n",
      "0                       7.0                          10.0   \n",
      "1                       6.0                           6.0   \n",
      "2                       6.0                           5.0   \n",
      "3                       7.0                           5.0   \n",
      "4                       7.0                           8.0   \n",
      "\n",
      "  personality_extraversion personality_neuroticism personality_openness  \n",
      "0                      5.0                     5.0                  5.0  \n",
      "1                      5.0                     4.0                  5.0  \n",
      "2                      5.0                     2.0                  5.0  \n",
      "3                      4.0                     5.0                  5.0  \n",
      "4                      2.0                     5.0                  5.0  \n",
      "\n",
      "[5 rows x 38 columns]\n"
     ]
    }
   ],
   "source": [
    "df3 = df3.loc[:,df2.columns]\n",
    "print(df3.head())\n",
    "\n",
    "df = pd.concat([df,df3], axis=1, join_axes = [df.index])\n",
    "\n",
    "df.to_csv(\"training_switch_ratio_with_factors_before_dummy.csv\")"
   ]
  },
  {
   "cell_type": "code",
   "execution_count": 82,
   "metadata": {},
   "outputs": [
    {
     "name": "stdout",
     "output_type": "stream",
     "text": [
      "Index(['Unnamed: 0', 'num_switch', 'switch_ratio', 'ifswitch', 'country',\n",
      "       'countryOfBirth', 'disability', 'ageGroup', 'euRefLA', 'onscode',\n",
      "       'headHouseholdPast', 'fatherNumEmployees', 'motherNumEmployees',\n",
      "       'gender', 'Age', 'marital', 'housing', 'gor', 'profile_education_age',\n",
      "       'profile_ethnicity', 'profile_lea', 'profile_oslaua',\n",
      "       'profile_gross_household', 'profile_gross_personal',\n",
      "       'profile_household_size', 'profile_household_children',\n",
      "       'profile_newspaper', 'profile_past_vote_2005', 'profile_past_vote_2010',\n",
      "       'profile_religion', 'profile_religion_denom', 'profile_house_tenure',\n",
      "       'profile_socialgrade_cie', 'profile_past_vote_2015',\n",
      "       'profile_turnout_2015', 'profile_eurefvote', 'profile_eurefturnout',\n",
      "       'personality_agreeableness', 'personality_conscientiousness',\n",
      "       'personality_extraversion', 'personality_neuroticism',\n",
      "       'personality_openness'],\n",
      "      dtype='object')\n",
      "Index(['Unnamed: 0', 'num_switch', 'switch_ratio', 'ifswitch', 'country',\n",
      "       'countryOfBirth', 'disability', 'ageGroup', 'headHouseholdPast',\n",
      "       'fatherNumEmployees', 'motherNumEmployees', 'gender', 'marital',\n",
      "       'housing', 'gor', 'profile_education_age', 'profile_ethnicity',\n",
      "       'profile_lea', 'profile_oslaua', 'profile_gross_household',\n",
      "       'profile_gross_personal', 'profile_household_size',\n",
      "       'profile_household_children', 'profile_newspaper',\n",
      "       'profile_past_vote_2005', 'profile_past_vote_2010', 'profile_religion',\n",
      "       'profile_religion_denom', 'profile_house_tenure',\n",
      "       'profile_socialgrade_cie', 'profile_past_vote_2015',\n",
      "       'profile_turnout_2015', 'profile_eurefvote', 'profile_eurefturnout',\n",
      "       'personality_agreeableness', 'personality_conscientiousness',\n",
      "       'personality_extraversion', 'personality_neuroticism',\n",
      "       'personality_openness'],\n",
      "      dtype='object')\n"
     ]
    },
    {
     "name": "stderr",
     "output_type": "stream",
     "text": [
      "/anaconda3/lib/python3.6/site-packages/IPython/core/interactiveshell.py:2698: DtypeWarning:\n",
      "\n",
      "Columns (6,17,31) have mixed types. Specify dtype option on import or set low_memory=False.\n",
      "\n"
     ]
    },
    {
     "data": {
      "text/plain": [
       "(51470, 39)"
      ]
     },
     "execution_count": 82,
     "metadata": {},
     "output_type": "execute_result"
    }
   ],
   "source": [
    "before_dummy = pd.read_csv(\"training_switch_ratio_with_factors_before_dummy.csv\",index_col= \"id\")\n",
    "print(before_dummy.columns)\n",
    "before_dummy.drop(['Age', 'euRefLA','onscode'], axis=1, inplace=True)\n",
    "print(before_dummy.columns)\n",
    "before_dummy.shape"
   ]
  },
  {
   "cell_type": "code",
   "execution_count": 83,
   "metadata": {},
   "outputs": [
    {
     "data": {
      "text/plain": [
       "(51470, 831)"
      ]
     },
     "execution_count": 83,
     "metadata": {},
     "output_type": "execute_result"
    }
   ],
   "source": [
    "after_dummy = pd.get_dummies(before_dummy)\n",
    "after_dummy.shape\n"
   ]
  },
  {
   "cell_type": "code",
   "execution_count": 84,
   "metadata": {
    "collapsed": true
   },
   "outputs": [],
   "source": [
    "after_dummy.to_csv(\"training_switch_ratio_with_factors_after_dummy.csv\")"
   ]
  }
 ],
 "metadata": {
  "kernelspec": {
   "display_name": "Python 3",
   "language": "python",
   "name": "python3"
  },
  "language_info": {
   "codemirror_mode": {
    "name": "ipython",
    "version": 3
   },
   "file_extension": ".py",
   "mimetype": "text/x-python",
   "name": "python",
   "nbconvert_exporter": "python",
   "pygments_lexer": "ipython3",
   "version": "3.6.3"
  }
 },
 "nbformat": 4,
 "nbformat_minor": 2
}
