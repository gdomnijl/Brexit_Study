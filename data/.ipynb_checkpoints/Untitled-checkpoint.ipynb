{
 "cells": [
  {
   "cell_type": "code",
   "execution_count": 43,
   "metadata": {
    "collapsed": true
   },
   "outputs": [],
   "source": [
    "import plotly.plotly as py\n",
    "import plotly.figure_factory as ff\n",
    "import pandas as pd\n",
    "import numpy as np\n"
   ]
  },
  {
   "cell_type": "code",
   "execution_count": 52,
   "metadata": {},
   "outputs": [
    {
     "name": "stderr",
     "output_type": "stream",
     "text": [
      "/anaconda3/lib/python3.6/site-packages/IPython/core/interactiveshell.py:2698: DtypeWarning:\n",
      "\n",
      "Columns (19) have mixed types. Specify dtype option on import or set low_memory=False.\n",
      "\n"
     ]
    }
   ],
   "source": [
    "#combining dataframes to get the static factors\n",
    "df = pd.read_csv(\"training_switch_ratio.csv\")\n",
    "df = df.drop(df.columns[1], axis=1)\n",
    "df2 = pd.read_csv(\"/Users/An/Desktop/Classes/AppliedDataScience/BriExit_Study/An_stuff/An_modelling/dataset_static_factors.csv\", index_col= \"id\")\n",
    "df2 = df2.loc[:,\"country\":\"personality_openness\"]\n",
    "\n",
    "#df = pd.concat([df,df2], axis=1, join_axes=[df.index])\n",
    "\n",
    "#df.to_csv(\"training_switch_ratio_with_factors.csv\")"
   ]
  },
  {
   "cell_type": "code",
   "execution_count": null,
   "metadata": {},
   "outputs": [],
   "source": [
    "df3 = pd.read_stata(\"/Users/An/Desktop/Classes/AppliedDataScience/BES2017_W13_Panel_v1.2.dta\")\n",
    "df3 = df3.loc[:,[df2.columns]]\n",
    "print(df3.head())\n",
    "\n",
    "df = pd.concat([df,df3], axis=1, join_axes = [df.index])\n",
    "\n",
    "df.to_csv(\"training_switch_ratio_with_factors.csv\")\n",
    "df = pd.read_csv(\"training_switch_ratio_with_factors.csv\",index_col= \"id\")\n"
   ]
  },
  {
   "cell_type": "code",
   "execution_count": null,
   "metadata": {
    "collapsed": true
   },
   "outputs": [],
   "source": []
  }
 ],
 "metadata": {
  "kernelspec": {
   "display_name": "Python 3",
   "language": "python",
   "name": "python3"
  },
  "language_info": {
   "codemirror_mode": {
    "name": "ipython",
    "version": 3
   },
   "file_extension": ".py",
   "mimetype": "text/x-python",
   "name": "python",
   "nbconvert_exporter": "python",
   "pygments_lexer": "ipython3",
   "version": "3.6.3"
  }
 },
 "nbformat": 4,
 "nbformat_minor": 2
}
