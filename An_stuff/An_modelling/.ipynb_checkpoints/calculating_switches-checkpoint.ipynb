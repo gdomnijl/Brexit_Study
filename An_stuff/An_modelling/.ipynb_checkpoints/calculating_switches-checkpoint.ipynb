{
 "cells": [
  {
   "cell_type": "code",
   "execution_count": 10,
   "metadata": {
    "collapsed": true
   },
   "outputs": [],
   "source": [
    "import plotly.plotly as py\n",
    "import plotly.figure_factory as ff\n",
    "import pandas as pd\n",
    "import numpy as np\n"
   ]
  },
  {
   "cell_type": "code",
   "execution_count": 129,
   "metadata": {},
   "outputs": [
    {
     "name": "stdout",
     "output_type": "stream",
     "text": [
      "started running\n"
     ]
    },
    {
     "name": "stderr",
     "output_type": "stream",
     "text": [
      "/anaconda3/lib/python3.6/site-packages/IPython/core/interactiveshell.py:2698: DtypeWarning:\n",
      "\n",
      "Columns (15,16,17,18,19,20,21,22,23) have mixed types. Specify dtype option on import or set low_memory=False.\n",
      "\n"
     ]
    }
   ],
   "source": [
    "print(\"started running\")\n",
    "df = pd.read_csv(\"to_compute_switch.csv\")"
   ]
  },
  {
   "cell_type": "markdown",
   "metadata": {},
   "source": [
    "importing data"
   ]
  },
  {
   "cell_type": "code",
   "execution_count": null,
   "metadata": {},
   "outputs": [],
   "source": [
    "row = df.loc[65,\"euRefVoteW1\": \"euRefVoteW13\"]\n",
    "\n",
    "def compute_switches(row):\n",
    "    row = row.loc[\"euRefVoteW1\": \"euRefVoteW13\"]\n",
    "    row = row.dropna()\n",
    "\n",
    "    num_col = len(row.index)\n",
    "    \n",
    "    if num_col ==0 or num_col ==1:\n",
    "        return 0\n",
    "\n",
    "    answer = row[0]\n",
    "    row.drop(row.index[0], inplace= True)\n",
    "\n",
    "    num_switches = 0\n",
    "\n",
    "    for col,value in list(row.items()):\n",
    "        if answer != value:\n",
    "            num_switches += 1\n",
    "        answer = value\n",
    "\n",
    "    proportion_switches = num_switches/num_col\n",
    "    return proportion_switches, num_switches\n",
    "\n",
    "print(compute_switches(row))\n"
   ]
  },
  {
   "cell_type": "code",
   "execution_count": null,
   "metadata": {},
   "outputs": [],
   "source": [
    "df[\"proportion_switches\"] = df.apply(compute_switches, axis=1)\n",
    "\n",
    "print(df.loc[:,[\"id\",\"proportion_switches\"]])\n",
    "\n",
    "df.loc[:,[\"id\",\"proportion_switches\"]].to_csv(\"switches_calculated.csv\")"
   ]
  },
  {
   "cell_type": "code",
   "execution_count": null,
   "metadata": {
    "collapsed": true
   },
   "outputs": [],
   "source": []
  },
  {
   "cell_type": "code",
   "execution_count": null,
   "metadata": {
    "collapsed": true
   },
   "outputs": [],
   "source": []
  }
 ],
 "metadata": {
  "kernelspec": {
   "display_name": "Python 3",
   "language": "python",
   "name": "python3"
  },
  "language_info": {
   "codemirror_mode": {
    "name": "ipython",
    "version": 3
   },
   "file_extension": ".py",
   "mimetype": "text/x-python",
   "name": "python",
   "nbconvert_exporter": "python",
   "pygments_lexer": "ipython3",
   "version": "3.6.3"
  }
 },
 "nbformat": 4,
 "nbformat_minor": 2
}
