{
 "cells": [
  {
   "cell_type": "code",
   "execution_count": 10,
   "metadata": {
    "collapsed": true
   },
   "outputs": [],
   "source": [
    "import plotly.plotly as py\n",
    "import plotly.figure_factory as ff\n",
    "import pandas as pd\n",
    "import numpy as np\n"
   ]
  },
  {
   "cell_type": "code",
   "execution_count": 129,
   "metadata": {},
   "outputs": [
    {
     "name": "stdout",
     "output_type": "stream",
     "text": [
      "started running\n"
     ]
    },
    {
     "name": "stderr",
     "output_type": "stream",
     "text": [
      "/anaconda3/lib/python3.6/site-packages/IPython/core/interactiveshell.py:2698: DtypeWarning:\n",
      "\n",
      "Columns (15,16,17,18,19,20,21,22,23) have mixed types. Specify dtype option on import or set low_memory=False.\n",
      "\n"
     ]
    }
   ],
   "source": [
    "print(\"started running\")\n",
    "df = pd.read_csv(\"to_compute_switch.csv\")"
   ]
  },
  {
   "cell_type": "markdown",
   "metadata": {},
   "source": [
    "importing data"
   ]
  },
  {
   "cell_type": "code",
   "execution_count": 140,
   "metadata": {},
   "outputs": [
    {
     "name": "stdout",
     "output_type": "stream",
     "text": [
      "0.0\n"
     ]
    }
   ],
   "source": [
    "row = df.loc[65,\"euRefVoteW1\": \"euRefVoteW13\"]\n",
    "\n",
    "def compute_switches(row):\n",
    "    row = row.loc[\"euRefVoteW1\": \"euRefVoteW13\"]\n",
    "    row = row.dropna()\n",
    "\n",
    "    num_col = len(row.index)\n",
    "    \n",
    "    if num_col ==0 or num_col ==1:\n",
    "        return 0\n",
    "\n",
    "    answer = row[0]\n",
    "    row.drop(row.index[0], inplace= True)\n",
    "\n",
    "    num_switches = 0\n",
    "\n",
    "    for col,value in list(row.items()):\n",
    "        if answer != value:\n",
    "            num_switches += 1\n",
    "        answer = value\n",
    "\n",
    "    proportion_switches = num_switches/num_col\n",
    "    return proportion_switches\n",
    "\n",
    "print(compute_switches(row))\n"
   ]
  },
  {
   "cell_type": "code",
   "execution_count": 141,
   "metadata": {},
   "outputs": [
    {
     "name": "stdout",
     "output_type": "stream",
     "text": [
      "          id  proportion_switches\n",
      "0          1             0.000000\n",
      "1          2             0.181818\n",
      "2          3             0.100000\n",
      "3          4             0.000000\n",
      "4          5             0.500000\n",
      "5          6             0.571429\n",
      "6          7             0.111111\n",
      "7          8             0.000000\n",
      "8          9             0.000000\n",
      "9         10             0.000000\n",
      "10        11             0.000000\n",
      "11        12             0.000000\n",
      "12        13             0.000000\n",
      "13        14             0.444444\n",
      "14        15             0.166667\n",
      "15        16             0.500000\n",
      "16        17             0.000000\n",
      "17        18             0.000000\n",
      "18        19             0.000000\n",
      "19        20             0.000000\n",
      "20        21             0.000000\n",
      "21        22             0.000000\n",
      "22        23             0.000000\n",
      "23        24             0.000000\n",
      "24        25             0.000000\n",
      "25        26             0.333333\n",
      "26        27             0.000000\n",
      "27        28             0.400000\n",
      "28        29             0.636364\n",
      "29        30             0.181818\n",
      "...      ...                  ...\n",
      "68595  69498             0.000000\n",
      "68596  69499             0.000000\n",
      "68597  69500             0.000000\n",
      "68598  69501             0.000000\n",
      "68599  69502             0.000000\n",
      "68600  69503             0.000000\n",
      "68601  69504             0.000000\n",
      "68602  69505             0.000000\n",
      "68603  69506             0.000000\n",
      "68604  69507             0.000000\n",
      "68605  69508             0.000000\n",
      "68606  69509             0.000000\n",
      "68607  69510             0.000000\n",
      "68608  69511             0.000000\n",
      "68609  69512             0.000000\n",
      "68610  69513             0.000000\n",
      "68611  69514             0.500000\n",
      "68612  69515             0.000000\n",
      "68613  69516             0.000000\n",
      "68614  69517             0.000000\n",
      "68615  69518             0.000000\n",
      "68616  69519             0.000000\n",
      "68617  69520             0.000000\n",
      "68618  69521             0.000000\n",
      "68619  69522             0.500000\n",
      "68620  69523             0.000000\n",
      "68621  69524             0.000000\n",
      "68622  69525             0.000000\n",
      "68623  69526             0.000000\n",
      "68624  69527             0.500000\n",
      "\n",
      "[68625 rows x 2 columns]\n"
     ]
    }
   ],
   "source": [
    "df[\"proportion_switches\"]= df.apply(compute_switches, axis=1)\n",
    "\n",
    "print(df.loc[:,[\"id\",\"proportion_switches\"]])\n",
    "\n",
    "df.loc[:,[\"id\",\"proportion_switches\"]].to_csv(\"switches_calculated.csv\")"
   ]
  },
  {
   "cell_type": "code",
   "execution_count": 142,
   "metadata": {
    "collapsed": true
   },
   "outputs": [],
   "source": [
    "df2 = pd.DataFrame({'A' : ['foo', 'bar', 'foo', 'bar',\n",
    "   ...:                           'foo', 'bar', 'foo', 'foo'],\n",
    "   ...:                    'B' : ['one', 'one', 'two', 'three',\n",
    "   ...:                           'two', 'two', 'one', 'three'],\n",
    "   ...:                    'C' : np.random.randn(8),\n",
    "   ...:                    'D' : np.random.randn(8)})"
   ]
  },
  {
   "cell_type": "code",
   "execution_count": 152,
   "metadata": {},
   "outputs": [
    {
     "name": "stdout",
     "output_type": "stream",
     "text": [
      "     A      B         C         D\n",
      "0  foo    one  0.244446  0.041374\n",
      "1  bar    one -0.716684 -0.276868\n",
      "2  foo    two -3.050817  1.169872\n",
      "3  bar  three -1.868459 -1.115232\n",
      "4  foo    two -1.541406  1.558902\n",
      "5  bar    two -1.361024 -1.804638\n",
      "6  foo    one  0.628775  0.717178\n",
      "7  foo  three  0.219688  0.094206\n",
      "{('bar', 'one'): Int64Index([1], dtype='int64'), ('bar', 'three'): Int64Index([3], dtype='int64'), ('bar', 'two'): Int64Index([5], dtype='int64'), ('foo', 'one'): Int64Index([0, 6], dtype='int64'), ('foo', 'three'): Int64Index([7], dtype='int64'), ('foo', 'two'): Int64Index([2, 4], dtype='int64')}\n"
     ]
    }
   ],
   "source": [
    "print(df2)\n",
    "def get_letter_type(letter):\n",
    "    if letter.lower() in 'aeiou':\n",
    "         return 'vowel'\n",
    "    else:\n",
    "        return 'consonant'\n",
    "\n",
    "grouped = df2.groupby([\"A\",\"B\"])\n",
    "print(grouped.groups)"
   ]
  }
 ],
 "metadata": {
  "kernelspec": {
   "display_name": "Python 3",
   "language": "python",
   "name": "python3"
  },
  "language_info": {
   "codemirror_mode": {
    "name": "ipython",
    "version": 3
   },
   "file_extension": ".py",
   "mimetype": "text/x-python",
   "name": "python",
   "nbconvert_exporter": "python",
   "pygments_lexer": "ipython3",
   "version": "3.6.3"
  }
 },
 "nbformat": 4,
 "nbformat_minor": 2
}
